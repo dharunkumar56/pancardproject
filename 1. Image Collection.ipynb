{
 "cells": [
  {
   "cell_type": "markdown",
   "metadata": {},
   "source": [
    "# 1. Import Dependencies"
   ]
  },
  {
   "cell_type": "code",
   "execution_count": 1,
   "metadata": {},
   "outputs": [
    {
     "name": "stdout",
     "output_type": "stream",
     "text": [
      "Collecting opencv-python\n",
      "  Obtaining dependency information for opencv-python from https://files.pythonhosted.org/packages/a6/08/583e1d8d589e80a702815f58daa317bd469a32c7dc339394e2a0dc14318b/opencv_python-4.8.0.74-cp37-abi3-win_amd64.whl.metadata\n",
      "  Using cached opencv_python-4.8.0.74-cp37-abi3-win_amd64.whl.metadata (19 kB)\n",
      "Collecting numpy>=1.21.2 (from opencv-python)\n",
      "  Obtaining dependency information for numpy>=1.21.2 from https://files.pythonhosted.org/packages/b7/db/4d37359e2c9cf8bf071c08b8a6f7374648a5ab2e76e2e22e3b808f81d507/numpy-1.25.2-cp310-cp310-win_amd64.whl.metadata\n",
      "  Downloading numpy-1.25.2-cp310-cp310-win_amd64.whl.metadata (5.7 kB)\n",
      "Using cached opencv_python-4.8.0.74-cp37-abi3-win_amd64.whl (38.1 MB)\n",
      "Downloading numpy-1.25.2-cp310-cp310-win_amd64.whl (15.6 MB)\n",
      "   ---------------------------------------- 0.0/15.6 MB ? eta -:--:--\n",
      "   ---------------------------------------- 0.1/15.6 MB 4.3 MB/s eta 0:00:04\n",
      "   - -------------------------------------- 0.7/15.6 MB 8.3 MB/s eta 0:00:02\n",
      "   -- ------------------------------------- 1.0/15.6 MB 7.9 MB/s eta 0:00:02\n",
      "   ---- ----------------------------------- 1.7/15.6 MB 10.1 MB/s eta 0:00:02\n",
      "   ----- ---------------------------------- 2.3/15.6 MB 10.4 MB/s eta 0:00:02\n",
      "   ------- -------------------------------- 2.8/15.6 MB 10.6 MB/s eta 0:00:02\n",
      "   -------- ------------------------------- 3.4/15.6 MB 10.8 MB/s eta 0:00:02\n",
      "   ---------- ----------------------------- 3.9/15.6 MB 10.9 MB/s eta 0:00:02\n",
      "   ----------- ---------------------------- 4.5/15.6 MB 10.9 MB/s eta 0:00:02\n",
      "   ------------ --------------------------- 5.0/15.6 MB 11.0 MB/s eta 0:00:01\n",
      "   -------------- ------------------------- 5.5/15.6 MB 11.0 MB/s eta 0:00:01\n",
      "   --------------- ------------------------ 6.1/15.6 MB 11.1 MB/s eta 0:00:01\n",
      "   ---------------- ----------------------- 6.5/15.6 MB 10.9 MB/s eta 0:00:01\n",
      "   ----------------- ---------------------- 6.9/15.6 MB 10.7 MB/s eta 0:00:01\n",
      "   ------------------ --------------------- 7.3/15.6 MB 10.6 MB/s eta 0:00:01\n",
      "   ------------------- -------------------- 7.7/15.6 MB 10.7 MB/s eta 0:00:01\n",
      "   -------------------- ------------------- 8.0/15.6 MB 10.3 MB/s eta 0:00:01\n",
      "   --------------------- ------------------ 8.4/15.6 MB 10.1 MB/s eta 0:00:01\n",
      "   ---------------------- ----------------- 8.7/15.6 MB 10.1 MB/s eta 0:00:01\n",
      "   ---------------------- ----------------- 8.9/15.6 MB 9.8 MB/s eta 0:00:01\n",
      "   ----------------------- ---------------- 9.0/15.6 MB 9.6 MB/s eta 0:00:01\n",
      "   ----------------------- ---------------- 9.0/15.6 MB 9.3 MB/s eta 0:00:01\n",
      "   ----------------------- ---------------- 9.0/15.6 MB 9.3 MB/s eta 0:00:01\n",
      "   ----------------------- ---------------- 9.0/15.6 MB 9.3 MB/s eta 0:00:01\n",
      "   ----------------------- ---------------- 9.0/15.6 MB 9.3 MB/s eta 0:00:01\n",
      "   ----------------------- ---------------- 9.0/15.6 MB 9.3 MB/s eta 0:00:01\n",
      "   ----------------------- ---------------- 9.0/15.6 MB 9.3 MB/s eta 0:00:01\n",
      "   ----------------------- ---------------- 9.0/15.6 MB 9.3 MB/s eta 0:00:01\n",
      "   ----------------------- ---------------- 9.0/15.6 MB 9.3 MB/s eta 0:00:01\n",
      "   ----------------------- ---------------- 9.2/15.6 MB 6.7 MB/s eta 0:00:01\n",
      "   ------------------------ --------------- 9.3/15.6 MB 6.6 MB/s eta 0:00:01\n",
      "   ------------------------ --------------- 9.7/15.6 MB 6.6 MB/s eta 0:00:01\n",
      "   -------------------------- ------------- 10.2/15.6 MB 6.7 MB/s eta 0:00:01\n",
      "   --------------------------- ------------ 10.6/15.6 MB 6.8 MB/s eta 0:00:01\n",
      "   ---------------------------- ----------- 11.1/15.6 MB 6.9 MB/s eta 0:00:01\n",
      "   ----------------------------- ---------- 11.6/15.6 MB 6.8 MB/s eta 0:00:01\n",
      "   ------------------------------ --------- 12.1/15.6 MB 6.8 MB/s eta 0:00:01\n",
      "   -------------------------------- ------- 12.6/15.6 MB 6.7 MB/s eta 0:00:01\n",
      "   --------------------------------- ------ 13.0/15.6 MB 6.7 MB/s eta 0:00:01\n",
      "   ---------------------------------- ----- 13.5/15.6 MB 6.7 MB/s eta 0:00:01\n",
      "   ------------------------------------ --- 14.0/15.6 MB 6.7 MB/s eta 0:00:01\n",
      "   ------------------------------------- -- 14.6/15.6 MB 6.6 MB/s eta 0:00:01\n",
      "   -------------------------------------- - 15.0/15.6 MB 6.6 MB/s eta 0:00:01\n",
      "   ---------------------------------------  15.5/15.6 MB 6.6 MB/s eta 0:00:01\n",
      "   ---------------------------------------  15.6/15.6 MB 6.5 MB/s eta 0:00:01\n",
      "   ---------------------------------------  15.6/15.6 MB 6.5 MB/s eta 0:00:01\n",
      "   ---------------------------------------- 15.6/15.6 MB 6.2 MB/s eta 0:00:00\n",
      "Installing collected packages: numpy, opencv-python\n",
      "Successfully installed numpy-1.25.2 opencv-python-4.8.0.74\n"
     ]
    }
   ],
   "source": [
    "!pip install opencv-python"
   ]
  },
  {
   "cell_type": "code",
   "execution_count": 2,
   "metadata": {},
   "outputs": [],
   "source": [
    "# Import opencv\n",
    "import cv2 \n",
    "\n",
    "# Import uuid\n",
    "import uuid\n",
    "\n",
    "# Import Operating System\n",
    "import os\n",
    "\n",
    "# Import time\n",
    "import time"
   ]
  },
  {
   "cell_type": "markdown",
   "metadata": {},
   "source": [
    "# 2. Define Images to Collect"
   ]
  },
  {
   "cell_type": "code",
   "execution_count": 3,
   "metadata": {},
   "outputs": [],
   "source": [
    "labels = ['emblem', 'title', 'name', 'signature']\n",
    "number_imgs = 5"
   ]
  },
  {
   "cell_type": "code",
   "execution_count": 8,
   "metadata": {},
   "outputs": [],
   "source": [
    "import os\n",
    "import shutil\n",
    "\n",
    "def rename_files(folder_path, new_name):\n",
    "    # Get the list of all files in the folder\n",
    "    files = os.listdir(folder_path)\n",
    "\n",
    "    # Filter only JPG files\n",
    "    jpg_files = [file for file in files if file.lower().endswith(\".jpg\")]\n",
    "\n",
    "    # Rename JPG files\n",
    "    for index, jpg_file in enumerate(jpg_files, start=1):\n",
    "        # Get the new filename with the given word and index\n",
    "        new_filename = f\"{new_name}{index}.jpg\"\n",
    "\n",
    "        # Construct the full paths\n",
    "        old_file_path = os.path.join(folder_path, jpg_file)\n",
    "        new_file_path = os.path.join(folder_path, new_filename)\n",
    "\n",
    "        # Rename the file\n",
    "        shutil.move(old_file_path, new_file_path)\n",
    "\n",
    "if __name__ == \"__main__\":\n",
    "    folder_path = r'C:\\Users\\dharu\\panproject\\TFODCourse\\Tensorflow\\workspace\\images\\collectedimages\\title'  # Replace with your actual folder path\n",
    "    new_name = \"title\"  # Replace with the desired new name\n",
    "\n",
    "    rename_files(folder_path, new_name)\n"
   ]
  },
  {
   "cell_type": "markdown",
   "metadata": {},
   "source": [
    "# 3. Setup Folders "
   ]
  },
  {
   "cell_type": "code",
   "execution_count": 4,
   "metadata": {},
   "outputs": [],
   "source": [
    "IMAGES_PATH = os.path.join('Tensorflow', 'workspace', 'images', 'collectedimages')"
   ]
  },
  {
   "cell_type": "code",
   "execution_count": 5,
   "metadata": {},
   "outputs": [],
   "source": [
    "if not os.path.exists(IMAGES_PATH):\n",
    "    if os.name == 'posix':\n",
    "        !mkdir -p {IMAGES_PATH}\n",
    "    if os.name == 'nt':\n",
    "         !mkdir {IMAGES_PATH}\n",
    "for label in labels:\n",
    "    path = os.path.join(IMAGES_PATH, label)\n",
    "    if not os.path.exists(path):\n",
    "        !mkdir {path}"
   ]
  },
  {
   "cell_type": "markdown",
   "metadata": {},
   "source": [
    "# 4. Capture Images"
   ]
  },
  {
   "cell_type": "code",
   "execution_count": 18,
   "metadata": {},
   "outputs": [
    {
     "name": "stdout",
     "output_type": "stream",
     "text": [
      "Collecting images for thumbsup\n",
      "Collecting image 0\n",
      "Collecting image 1\n",
      "Collecting image 2\n",
      "Collecting image 3\n",
      "Collecting image 4\n"
     ]
    }
   ],
   "source": [
    "for label in labels:\n",
    "    cap = cv2.VideoCapture(0)\n",
    "    print('Collecting images for {}'.format(label))\n",
    "    time.sleep(5)\n",
    "    for imgnum in range(number_imgs):\n",
    "        print('Collecting image {}'.format(imgnum))\n",
    "        ret, frame = cap.read()\n",
    "        imgname = os.path.join(IMAGES_PATH,label,label+'.'+'{}.jpg'.format(str(uuid.uuid1())))\n",
    "        cv2.imwrite(imgname, frame)\n",
    "        cv2.imshow('frame', frame)\n",
    "        time.sleep(2)\n",
    "\n",
    "        if cv2.waitKey(1) & 0xFF == ord('q'):\n",
    "            break\n",
    "cap.release()\n",
    "cv2.destroyAllWindows()"
   ]
  },
  {
   "cell_type": "markdown",
   "metadata": {},
   "source": [
    "# 5. Image Labelling"
   ]
  },
  {
   "cell_type": "code",
   "execution_count": 9,
   "metadata": {},
   "outputs": [
    {
     "name": "stdout",
     "output_type": "stream",
     "text": [
      "Collecting pyqt5\n",
      "  Using cached PyQt5-5.15.9-cp37-abi3-win_amd64.whl (6.8 MB)\n",
      "Collecting lxml\n",
      "  Obtaining dependency information for lxml from https://files.pythonhosted.org/packages/50/ba/cb7bc9728a3be4e00dfd658fc76dc64fd9dbc3d5492ff44cda70574329c6/lxml-4.9.3-cp310-cp310-win_amd64.whl.metadata\n",
      "  Using cached lxml-4.9.3-cp310-cp310-win_amd64.whl.metadata (3.9 kB)\n",
      "Collecting PyQt5-sip<13,>=12.11 (from pyqt5)\n",
      "  Obtaining dependency information for PyQt5-sip<13,>=12.11 from https://files.pythonhosted.org/packages/9e/d1/2865085040c7bc553298553f51d6ac46b5051481b5c3eb8aad4bb5b63497/PyQt5_sip-12.12.2-cp310-cp310-win_amd64.whl.metadata\n",
      "  Using cached PyQt5_sip-12.12.2-cp310-cp310-win_amd64.whl.metadata (524 bytes)\n",
      "Collecting PyQt5-Qt5>=5.15.2 (from pyqt5)\n",
      "  Using cached PyQt5_Qt5-5.15.2-py3-none-win_amd64.whl (50.1 MB)\n",
      "Using cached lxml-4.9.3-cp310-cp310-win_amd64.whl (3.8 MB)\n",
      "Using cached PyQt5_sip-12.12.2-cp310-cp310-win_amd64.whl (78 kB)\n",
      "Installing collected packages: PyQt5-Qt5, PyQt5-sip, lxml, pyqt5\n",
      "Successfully installed PyQt5-Qt5-5.15.2 PyQt5-sip-12.12.2 lxml-4.9.3 pyqt5-5.15.9\n"
     ]
    }
   ],
   "source": [
    "!pip install --upgrade pyqt5 lxml"
   ]
  },
  {
   "cell_type": "code",
   "execution_count": 10,
   "metadata": {},
   "outputs": [],
   "source": [
    "LABELIMG_PATH = os.path.join('Tensorflow', 'labelimg')"
   ]
  },
  {
   "cell_type": "code",
   "execution_count": 11,
   "metadata": {},
   "outputs": [
    {
     "name": "stderr",
     "output_type": "stream",
     "text": [
      "Cloning into 'Tensorflow\\labelimg'...\n"
     ]
    }
   ],
   "source": [
    "if not os.path.exists(LABELIMG_PATH):\n",
    "    !mkdir {LABELIMG_PATH}\n",
    "    !git clone https://github.com/tzutalin/labelImg {LABELIMG_PATH}"
   ]
  },
  {
   "cell_type": "code",
   "execution_count": 12,
   "metadata": {},
   "outputs": [],
   "source": [
    "if os.name == 'posix':\n",
    "    !make qt5py3\n",
    "if os.name =='nt':\n",
    "    !cd {LABELIMG_PATH} && pyrcc5 -o libs/resources.py resources.qrc"
   ]
  },
  {
   "cell_type": "code",
   "execution_count": null,
   "metadata": {},
   "outputs": [],
   "source": [
    "!cd {LABELIMG_PATH} && python labelImg.py"
   ]
  },
  {
   "cell_type": "markdown",
   "metadata": {},
   "source": [
    "# 6. Move them into a Training and Testing Partition"
   ]
  },
  {
   "cell_type": "markdown",
   "metadata": {},
   "source": [
    "# OPTIONAL - 7. Compress them for Colab Training"
   ]
  },
  {
   "cell_type": "code",
   "execution_count": 20,
   "metadata": {},
   "outputs": [],
   "source": [
    "TRAIN_PATH = os.path.join('Tensorflow', 'workspace', 'images', 'train')\n",
    "TEST_PATH = os.path.join('Tensorflow', 'workspace', 'images', 'test')\n",
    "ARCHIVE_PATH = os.path.join('Tensorflow', 'workspace', 'images', 'archive.tar.gz')"
   ]
  },
  {
   "cell_type": "code",
   "execution_count": 21,
   "metadata": {},
   "outputs": [],
   "source": [
    "!tar -czf {ARCHIVE_PATH} {TRAIN_PATH} {TEST_PATH}"
   ]
  },
  {
   "cell_type": "code",
   "execution_count": null,
   "metadata": {},
   "outputs": [],
   "source": []
  }
 ],
 "metadata": {
  "kernelspec": {
   "display_name": "tfod3",
   "language": "python",
   "name": "tfod3"
  },
  "language_info": {
   "codemirror_mode": {
    "name": "ipython",
    "version": 3
   },
   "file_extension": ".py",
   "mimetype": "text/x-python",
   "name": "python",
   "nbconvert_exporter": "python",
   "pygments_lexer": "ipython3",
   "version": "3.10.0"
  }
 },
 "nbformat": 4,
 "nbformat_minor": 4
}
